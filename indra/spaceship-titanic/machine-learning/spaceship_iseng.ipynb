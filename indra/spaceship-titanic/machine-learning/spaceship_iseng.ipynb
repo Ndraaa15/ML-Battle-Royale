{
 "cells": [
  {
   "cell_type": "code",
   "execution_count": 132,
   "id": "a5a85dc4",
   "metadata": {
    "_cell_guid": "b1076dfc-b9ad-4769-8c92-a6c4dae69d19",
    "_uuid": "8f2839f25d086af736a60e9eeb907d3b93b6e0e5",
    "execution": {
     "iopub.execute_input": "2022-12-31T21:12:26.021387Z",
     "iopub.status.busy": "2022-12-31T21:12:26.020439Z",
     "iopub.status.idle": "2022-12-31T21:12:26.034078Z",
     "shell.execute_reply": "2022-12-31T21:12:26.033206Z"
    },
    "papermill": {
     "duration": 0.03291,
     "end_time": "2022-12-31T21:12:26.036342",
     "exception": false,
     "start_time": "2022-12-31T21:12:26.003432",
     "status": "completed"
    },
    "tags": []
   },
   "outputs": [],
   "source": [
    "import numpy as np\n",
    "import pandas as pd\n",
    "from sklearn.preprocessing import OrdinalEncoder\n",
    "from sklearn.preprocessing import TargetEncoder\n",
    "from sklearn.preprocessing import OneHotEncoder\n",
    "from sklearn.experimental import enable_iterative_imputer\n",
    "from sklearn.impute import IterativeImputer\n",
    "from sklearn.impute import SimpleImputer\n",
    "from sklearn.feature_selection import mutual_info_classif\n",
    "from sklearn.model_selection import train_test_split\n",
    "from sklearn.ensemble import RandomForestClassifier\n",
    "from sklearn.metrics import accuracy_score\n",
    "from sklearn.preprocessing import StandardScaler"
   ]
  },
  {
   "cell_type": "code",
   "execution_count": 133,
   "id": "f5e0f429",
   "metadata": {
    "execution": {
     "iopub.execute_input": "2022-12-31T21:12:26.068835Z",
     "iopub.status.busy": "2022-12-31T21:12:26.068405Z",
     "iopub.status.idle": "2022-12-31T21:12:26.133212Z",
     "shell.execute_reply": "2022-12-31T21:12:26.132152Z"
    },
    "papermill": {
     "duration": 0.084118,
     "end_time": "2022-12-31T21:12:26.135821",
     "exception": false,
     "start_time": "2022-12-31T21:12:26.051703",
     "status": "completed"
    },
    "tags": []
   },
   "outputs": [],
   "source": [
    "train_df = pd.read_csv(\"../dataset/train.csv\")\n",
    "train_labels = train_df.pop('Transported')"
   ]
  },
  {
   "cell_type": "code",
   "execution_count": 134,
   "id": "436392a1",
   "metadata": {
    "execution": {
     "iopub.execute_input": "2022-12-31T21:12:26.296145Z",
     "iopub.status.busy": "2022-12-31T21:12:26.295730Z",
     "iopub.status.idle": "2022-12-31T21:12:26.307615Z",
     "shell.execute_reply": "2022-12-31T21:12:26.306675Z"
    },
    "papermill": {
     "duration": 0.031413,
     "end_time": "2022-12-31T21:12:26.310049",
     "exception": false,
     "start_time": "2022-12-31T21:12:26.278636",
     "status": "completed"
    },
    "tags": []
   },
   "outputs": [],
   "source": [
    "train_df.drop([\"Name\"], axis=1, inplace=True)"
   ]
  },
  {
   "cell_type": "code",
   "execution_count": 135,
   "id": "c8243d1e",
   "metadata": {},
   "outputs": [],
   "source": [
    "train_df[['deck', 'num', 'side']] = train_df['Cabin'].str.extract(r'(\\w)(\\d+)(\\w)')"
   ]
  },
  {
   "cell_type": "code",
   "execution_count": 136,
   "id": "1d067599",
   "metadata": {},
   "outputs": [],
   "source": [
    "train_df.drop([\"Cabin\"], axis=1, inplace=True)"
   ]
  },
  {
   "cell_type": "code",
   "execution_count": 137,
   "id": "05ac65a1",
   "metadata": {
    "execution": {
     "iopub.execute_input": "2022-12-31T21:12:26.404720Z",
     "iopub.status.busy": "2022-12-31T21:12:26.404330Z",
     "iopub.status.idle": "2022-12-31T21:12:26.414798Z",
     "shell.execute_reply": "2022-12-31T21:12:26.413987Z"
    },
    "papermill": {
     "duration": 0.029387,
     "end_time": "2022-12-31T21:12:26.416852",
     "exception": false,
     "start_time": "2022-12-31T21:12:26.387465",
     "status": "completed"
    },
    "tags": []
   },
   "outputs": [],
   "source": [
    "categorical_cols = train_df.select_dtypes([\"bool_\", \"object_\"]).columns\n",
    "\n",
    "numeric_cols = train_df.select_dtypes(exclude=[\"bool_\", \"object_\"]).columns"
   ]
  },
  {
   "cell_type": "code",
   "execution_count": 138,
   "id": "1c29410e",
   "metadata": {
    "execution": {
     "iopub.execute_input": "2022-12-31T21:12:26.521184Z",
     "iopub.status.busy": "2022-12-31T21:12:26.520763Z",
     "iopub.status.idle": "2022-12-31T21:12:26.525884Z",
     "shell.execute_reply": "2022-12-31T21:12:26.524889Z"
    },
    "papermill": {
     "duration": 0.024024,
     "end_time": "2022-12-31T21:12:26.528007",
     "exception": false,
     "start_time": "2022-12-31T21:12:26.503983",
     "status": "completed"
    },
    "tags": []
   },
   "outputs": [],
   "source": [
    "categorical_cols = categorical_cols.drop(\"PassengerId\")"
   ]
  },
  {
   "cell_type": "code",
   "execution_count": 139,
   "id": "6d56864e",
   "metadata": {},
   "outputs": [],
   "source": [
    "encoder = TargetEncoder()\n",
    "train_df[categorical_cols] = encoder.fit_transform(train_df[categorical_cols], train_labels)"
   ]
  },
  {
   "cell_type": "code",
   "execution_count": 140,
   "id": "d2caee7f",
   "metadata": {
    "execution": {
     "iopub.execute_input": "2022-12-31T21:12:26.788045Z",
     "iopub.status.busy": "2022-12-31T21:12:26.787635Z",
     "iopub.status.idle": "2022-12-31T21:12:27.821616Z",
     "shell.execute_reply": "2022-12-31T21:12:27.820786Z"
    },
    "papermill": {
     "duration": 1.054271,
     "end_time": "2022-12-31T21:12:27.824440",
     "exception": false,
     "start_time": "2022-12-31T21:12:26.770169",
     "status": "completed"
    },
    "tags": []
   },
   "outputs": [],
   "source": [
    "# encoder = OneHotEncoder(sparse=False)\n",
    "# encoded_cols = encoder.fit_transform(train_df[categorical_cols])\n",
    "# encoded_df = pd.DataFrame(encoded_cols, columns=encoder.get_feature_names_out(categorical_cols), index=train_df.index)\n",
    "\n",
    "# # Replace the original categorical columns in the DataFrame with the encoded columns\n",
    "# train_df.drop(columns=categorical_cols, inplace=True)  # Drop original categorical columns\n",
    "# train_df[encoded_df.columns] = encoded_df  # Assign encoded columns to DataFrame\n",
    "\n",
    "# train_df.head()"
   ]
  },
  {
   "cell_type": "code",
   "execution_count": 141,
   "id": "66219bfa",
   "metadata": {
    "execution": {
     "iopub.execute_input": "2022-12-31T21:12:28.015969Z",
     "iopub.status.busy": "2022-12-31T21:12:28.015175Z",
     "iopub.status.idle": "2022-12-31T21:12:28.025185Z",
     "shell.execute_reply": "2022-12-31T21:12:28.024077Z"
    },
    "papermill": {
     "duration": 0.030082,
     "end_time": "2022-12-31T21:12:28.027318",
     "exception": false,
     "start_time": "2022-12-31T21:12:27.997236",
     "status": "completed"
    },
    "tags": []
   },
   "outputs": [
    {
     "data": {
      "text/plain": [
       "1122"
      ]
     },
     "execution_count": 141,
     "metadata": {},
     "output_type": "execute_result"
    }
   ],
   "source": [
    "train_df.isna().sum().sum()"
   ]
  },
  {
   "cell_type": "code",
   "execution_count": 142,
   "id": "542131b0",
   "metadata": {
    "execution": {
     "iopub.execute_input": "2022-12-31T21:12:28.359991Z",
     "iopub.status.busy": "2022-12-31T21:12:28.359531Z",
     "iopub.status.idle": "2022-12-31T21:12:28.533857Z",
     "shell.execute_reply": "2022-12-31T21:12:28.532257Z"
    },
    "papermill": {
     "duration": 0.196373,
     "end_time": "2022-12-31T21:12:28.538029",
     "exception": false,
     "start_time": "2022-12-31T21:12:28.341656",
     "status": "completed"
    },
    "tags": []
   },
   "outputs": [],
   "source": [
    "iterative_imputer = IterativeImputer()\n",
    "train_df[numeric_cols] = pd.DataFrame(iterative_imputer.fit_transform(train_df[numeric_cols]), columns= numeric_cols)"
   ]
  },
  {
   "cell_type": "markdown",
   "id": "98bc35ba",
   "metadata": {},
   "source": [
    "interpolation\n",
    "fwrd bkwrd fill"
   ]
  },
  {
   "cell_type": "code",
   "execution_count": 143,
   "id": "4e63bf23",
   "metadata": {
    "execution": {
     "iopub.execute_input": "2022-12-31T21:12:28.672853Z",
     "iopub.status.busy": "2022-12-31T21:12:28.672429Z",
     "iopub.status.idle": "2022-12-31T21:12:28.685256Z",
     "shell.execute_reply": "2022-12-31T21:12:28.684412Z"
    },
    "papermill": {
     "duration": 0.032939,
     "end_time": "2022-12-31T21:12:28.687483",
     "exception": false,
     "start_time": "2022-12-31T21:12:28.654544",
     "status": "completed"
    },
    "tags": []
   },
   "outputs": [],
   "source": [
    "categorical_imputer = SimpleImputer(strategy= \"most_frequent\")\n",
    "train_df[categorical_cols] = pd.DataFrame(categorical_imputer.fit_transform(train_df[categorical_cols]), columns= categorical_cols)"
   ]
  },
  {
   "cell_type": "code",
   "execution_count": 144,
   "id": "47e2b7eb",
   "metadata": {
    "execution": {
     "iopub.execute_input": "2022-12-31T21:12:28.755533Z",
     "iopub.status.busy": "2022-12-31T21:12:28.755110Z",
     "iopub.status.idle": "2022-12-31T21:12:28.764119Z",
     "shell.execute_reply": "2022-12-31T21:12:28.763362Z"
    },
    "papermill": {
     "duration": 0.029021,
     "end_time": "2022-12-31T21:12:28.766195",
     "exception": false,
     "start_time": "2022-12-31T21:12:28.737174",
     "status": "completed"
    },
    "tags": []
   },
   "outputs": [
    {
     "data": {
      "text/plain": [
       "0"
      ]
     },
     "execution_count": 144,
     "metadata": {},
     "output_type": "execute_result"
    }
   ],
   "source": [
    "train_df.isna().sum().sum()"
   ]
  },
  {
   "cell_type": "code",
   "execution_count": 145,
   "id": "e2c18b04",
   "metadata": {
    "execution": {
     "iopub.execute_input": "2022-12-31T21:12:28.901220Z",
     "iopub.status.busy": "2022-12-31T21:12:28.900207Z",
     "iopub.status.idle": "2022-12-31T21:12:28.926364Z",
     "shell.execute_reply": "2022-12-31T21:12:28.925500Z"
    },
    "papermill": {
     "duration": 0.046946,
     "end_time": "2022-12-31T21:12:28.929194",
     "exception": false,
     "start_time": "2022-12-31T21:12:28.882248",
     "status": "completed"
    },
    "tags": []
   },
   "outputs": [],
   "source": [
    "train_df[\"group\"] = train_df[\"PassengerId\"].str.split(\"_\").str[0] \n",
    "train_df[\"group\"] = pd.to_numeric(train_df[\"group\"]) "
   ]
  },
  {
   "cell_type": "code",
   "execution_count": 146,
   "id": "fbe31631",
   "metadata": {
    "execution": {
     "iopub.execute_input": "2022-12-31T21:12:29.015210Z",
     "iopub.status.busy": "2022-12-31T21:12:29.014515Z",
     "iopub.status.idle": "2022-12-31T21:12:29.019964Z",
     "shell.execute_reply": "2022-12-31T21:12:29.019123Z"
    },
    "papermill": {
     "duration": 0.026307,
     "end_time": "2022-12-31T21:12:29.022222",
     "exception": false,
     "start_time": "2022-12-31T21:12:28.995915",
     "status": "completed"
    },
    "tags": []
   },
   "outputs": [],
   "source": [
    "train_df.drop(\"PassengerId\", axis= 1, inplace= True)"
   ]
  },
  {
   "cell_type": "code",
   "execution_count": 147,
   "id": "f42c65d2",
   "metadata": {
    "execution": {
     "iopub.execute_input": "2022-12-31T21:12:29.092678Z",
     "iopub.status.busy": "2022-12-31T21:12:29.091547Z",
     "iopub.status.idle": "2022-12-31T21:12:29.103376Z",
     "shell.execute_reply": "2022-12-31T21:12:29.102561Z"
    },
    "papermill": {
     "duration": 0.031779,
     "end_time": "2022-12-31T21:12:29.105574",
     "exception": false,
     "start_time": "2022-12-31T21:12:29.073795",
     "status": "completed"
    },
    "tags": []
   },
   "outputs": [],
   "source": [
    "scaler = StandardScaler()\n",
    "new_col_names = [col + \"_scaled\" for col in numeric_cols]\n",
    "\n",
    "train_df[new_col_names] = scaler.fit_transform(train_df[numeric_cols]) "
   ]
  },
  {
   "cell_type": "markdown",
   "id": "c13b74b7",
   "metadata": {
    "papermill": {
     "duration": 0.016434,
     "end_time": "2022-12-31T21:12:29.138986",
     "exception": false,
     "start_time": "2022-12-31T21:12:29.122552",
     "status": "completed"
    },
    "tags": []
   },
   "source": [
    "View the scaled columns"
   ]
  },
  {
   "cell_type": "markdown",
   "id": "ca7014d5",
   "metadata": {},
   "source": [
    "PCA"
   ]
  },
  {
   "cell_type": "code",
   "execution_count": 148,
   "id": "6b7087b3",
   "metadata": {
    "execution": {
     "iopub.execute_input": "2022-12-31T21:12:29.332536Z",
     "iopub.status.busy": "2022-12-31T21:12:29.332122Z",
     "iopub.status.idle": "2022-12-31T21:12:29.969876Z",
     "shell.execute_reply": "2022-12-31T21:12:29.968562Z"
    },
    "papermill": {
     "duration": 0.658647,
     "end_time": "2022-12-31T21:12:29.972224",
     "exception": false,
     "start_time": "2022-12-31T21:12:29.313577",
     "status": "completed"
    },
    "tags": []
   },
   "outputs": [
    {
     "data": {
      "text/plain": [
       "CryoSleep              0.112680\n",
       "Spa                    0.080086\n",
       "Spa_scaled             0.077050\n",
       "RoomService_scaled     0.076004\n",
       "RoomService            0.070961\n",
       "VRDeck_scaled          0.066448\n",
       "VRDeck                 0.066004\n",
       "ShoppingMall_scaled    0.055964\n",
       "ShoppingMall           0.049831\n",
       "FoodCourt              0.046847\n",
       "FoodCourt_scaled       0.045930\n",
       "group                  0.023194\n",
       "HomePlanet             0.021801\n",
       "Age                    0.015640\n",
       "Age_scaled             0.014939\n",
       "num                    0.012624\n",
       "Destination            0.010089\n",
       "VIP                    0.000259\n",
       "side                   0.000000\n",
       "deck                   0.000000\n",
       "Name: MI Scores, dtype: float64"
      ]
     },
     "execution_count": 148,
     "metadata": {},
     "output_type": "execute_result"
    }
   ],
   "source": [
    "mi_scores = mutual_info_classif(train_df, train_labels)\n",
    "mi_scores = pd.Series(mi_scores, name=\"MI Scores\", index=train_df.columns)\n",
    "mi_scores = mi_scores.sort_values(ascending=False)\n",
    "mi_scores"
   ]
  },
  {
   "cell_type": "code",
   "execution_count": 149,
   "id": "dd8bb128",
   "metadata": {
    "execution": {
     "iopub.execute_input": "2022-12-31T21:12:30.043246Z",
     "iopub.status.busy": "2022-12-31T21:12:30.042342Z",
     "iopub.status.idle": "2022-12-31T21:12:30.048829Z",
     "shell.execute_reply": "2022-12-31T21:12:30.047702Z"
    },
    "papermill": {
     "duration": 0.027034,
     "end_time": "2022-12-31T21:12:30.050916",
     "exception": false,
     "start_time": "2022-12-31T21:12:30.023882",
     "status": "completed"
    },
    "tags": []
   },
   "outputs": [],
   "source": [
    "train_df.drop([\"Destination\", \"VIP\"], axis= 1, inplace= True)"
   ]
  },
  {
   "cell_type": "markdown",
   "id": "43c7a831",
   "metadata": {},
   "source": [
    "crossfold validation -> pemilihan model terbaik"
   ]
  },
  {
   "cell_type": "code",
   "execution_count": 150,
   "id": "04f2016f",
   "metadata": {
    "execution": {
     "iopub.execute_input": "2022-12-31T21:12:30.173265Z",
     "iopub.status.busy": "2022-12-31T21:12:30.172513Z",
     "iopub.status.idle": "2022-12-31T21:12:30.180055Z",
     "shell.execute_reply": "2022-12-31T21:12:30.179264Z"
    },
    "papermill": {
     "duration": 0.038552,
     "end_time": "2022-12-31T21:12:30.183024",
     "exception": false,
     "start_time": "2022-12-31T21:12:30.144472",
     "status": "completed"
    },
    "tags": []
   },
   "outputs": [],
   "source": [
    "X_train, X_valid, y_train, y_valid = train_test_split(train_df, train_labels, train_size = 0.9)"
   ]
  },
  {
   "cell_type": "code",
   "execution_count": 151,
   "id": "792ceb13",
   "metadata": {
    "execution": {
     "iopub.execute_input": "2022-12-31T21:12:30.357370Z",
     "iopub.status.busy": "2022-12-31T21:12:30.356650Z",
     "iopub.status.idle": "2022-12-31T21:12:42.821737Z",
     "shell.execute_reply": "2022-12-31T21:12:42.820394Z"
    },
    "papermill": {
     "duration": 12.490535,
     "end_time": "2022-12-31T21:12:42.824633",
     "exception": false,
     "start_time": "2022-12-31T21:12:30.334098",
     "status": "completed"
    },
    "tags": []
   },
   "outputs": [
    {
     "name": "stdout",
     "output_type": "stream",
     "text": [
      "Validation Accuracy with Best Hyperparameters: 0.78953421506613\n"
     ]
    }
   ],
   "source": [
    "from sklearn.model_selection import cross_val_score, KFold\n",
    "from sklearn.ensemble import RandomForestClassifier\n",
    "from sklearn.metrics import accuracy_score\n",
    "import numpy as np\n",
    "\n",
    "# Define the number of folds for cross-validation\n",
    "num_folds = 5\n",
    "\n",
    "# Define the cross-validation method\n",
    "kf = KFold(n_splits=num_folds, shuffle=True, random_state=42)\n",
    "\n",
    "# Define a range of hyperparameters to search\n",
    "n_estimators_range = [100, 500, 1000]  # Example range for number of trees\n",
    "# Add more hyperparameters like max_depth, min_samples_split, etc., as needed\n",
    "\n",
    "# Store the mean cross-validation scores for each hyperparameter setting\n",
    "cv_scores_mean = []\n",
    "\n",
    "for n_estimators in n_estimators_range:\n",
    "    # Create a Random Forest classifier with the current hyperparameter settings\n",
    "    rf_classifier = RandomForestClassifier(n_estimators=n_estimators)\n",
    "    \n",
    "    # Perform cross-validation\n",
    "    cv_scores = cross_val_score(rf_classifier, X_train, y_train, cv=kf, scoring='accuracy')\n",
    "    \n",
    "    # Calculate the mean cross-validation score\n",
    "    cv_scores_mean.append(np.mean(cv_scores))\n",
    "\n",
    "# Find the hyperparameters with the highest mean cross-validation score\n",
    "best_n_estimators = n_estimators_range[np.argmax(cv_scores_mean)]\n",
    "\n",
    "# Train the final Random Forest classifier using the best hyperparameters\n",
    "final_rf_classifier = RandomForestClassifier(n_estimators=best_n_estimators)\n",
    "final_rf_classifier.fit(X_train, y_train)\n",
    "\n",
    "# Evaluate the final classifier on the validation set\n",
    "validation_accuracy = accuracy_score(y_valid, final_rf_classifier.predict(X_valid))\n",
    "print(\"Validation Accuracy with Best Hyperparameters:\", validation_accuracy)"
   ]
  },
  {
   "cell_type": "code",
   "execution_count": 152,
   "id": "cdd86e91",
   "metadata": {
    "execution": {
     "iopub.execute_input": "2022-12-31T21:12:42.863640Z",
     "iopub.status.busy": "2022-12-31T21:12:42.863246Z",
     "iopub.status.idle": "2022-12-31T21:12:43.543685Z",
     "shell.execute_reply": "2022-12-31T21:12:43.542069Z"
    },
    "papermill": {
     "duration": 0.70857,
     "end_time": "2022-12-31T21:12:43.552861",
     "exception": false,
     "start_time": "2022-12-31T21:12:42.844291",
     "status": "completed"
    },
    "tags": []
   },
   "outputs": [
    {
     "name": "stdout",
     "output_type": "stream",
     "text": [
      "Validation Accuracy with Best Hyperparameters: 0.7935595169637722\n"
     ]
    }
   ],
   "source": [
    "from sklearn.model_selection import cross_val_score, KFold\n",
    "from sklearn.linear_model import LogisticRegression\n",
    "from sklearn.metrics import accuracy_score\n",
    "import numpy as np\n",
    "\n",
    "# Define the number of folds for cross-validation\n",
    "num_folds = 5\n",
    "\n",
    "# Define the cross-validation method\n",
    "kf = KFold(n_splits=num_folds, shuffle=True, random_state=42)\n",
    "\n",
    "# Define a range of hyperparameters to search\n",
    "max_iter_range = [1000, 2000, 3000]  # Example range for maximum iterations\n",
    "# You can add more hyperparameters like regularization strength (C), penalty type (l1 or l2), etc., as needed\n",
    "\n",
    "# Store the mean cross-validation scores for each hyperparameter setting\n",
    "cv_scores_mean = []\n",
    "\n",
    "for max_iter in max_iter_range:\n",
    "    # Create a Logistic Regression classifier with the current hyperparameter settings\n",
    "    lr_classifier = LogisticRegression(max_iter=max_iter, random_state=42)\n",
    "    \n",
    "    # Perform cross-validation\n",
    "    cv_scores = cross_val_score(lr_classifier, X_train, y_train, cv=kf, scoring='accuracy')\n",
    "    \n",
    "    # Calculate the mean cross-validation score\n",
    "    cv_scores_mean.append(np.mean(cv_scores))\n",
    "\n",
    "# Find the hyperparameters with the highest mean cross-validation score\n",
    "best_max_iter = max_iter_range[np.argmax(cv_scores_mean)]\n",
    "\n",
    "# Train the final Logistic Regression classifier using the best hyperparameters\n",
    "final_lr_classifier = LogisticRegression(max_iter=best_max_iter, random_state=42)\n",
    "final_lr_classifier.fit(X_train, y_train)\n",
    "\n",
    "# Evaluate the final classifier on the validation set\n",
    "validation_accuracy = accuracy_score(y_valid, final_lr_classifier.predict(X_valid))\n",
    "print(\"Validation Accuracy with Best Hyperparameters:\", validation_accuracy)\n"
   ]
  },
  {
   "cell_type": "code",
   "execution_count": 153,
   "id": "2ec69126",
   "metadata": {
    "execution": {
     "iopub.execute_input": "2022-12-31T21:12:43.645479Z",
     "iopub.status.busy": "2022-12-31T21:12:43.644724Z",
     "iopub.status.idle": "2022-12-31T21:12:46.616067Z",
     "shell.execute_reply": "2022-12-31T21:12:46.614564Z"
    },
    "papermill": {
     "duration": 3.020753,
     "end_time": "2022-12-31T21:12:46.618584",
     "exception": false,
     "start_time": "2022-12-31T21:12:43.597831",
     "status": "completed"
    },
    "tags": []
   },
   "outputs": [
    {
     "name": "stdout",
     "output_type": "stream",
     "text": [
      "Validation Accuracy with Best Hyperparameters: 0.79700977573318\n"
     ]
    }
   ],
   "source": [
    "from sklearn.model_selection import cross_val_score, KFold\n",
    "from sklearn.ensemble import GradientBoostingClassifier\n",
    "from sklearn.metrics import accuracy_score\n",
    "import numpy as np\n",
    "\n",
    "# Define the number of folds for cross-validation\n",
    "num_folds = 5\n",
    "\n",
    "# Define the cross-validation method\n",
    "kf = KFold(n_splits=num_folds, shuffle=True, random_state=42)\n",
    "\n",
    "# Define a range of hyperparameters to search\n",
    "n_estimators_range = [100, 200, 300, ]  # Example range for the number of estimators\n",
    "# You can add more hyperparameters like learning rate, max_depth, etc., as needed\n",
    "\n",
    "# Store the mean cross-validation scores for each hyperparameter setting\n",
    "cv_scores_mean = []\n",
    "\n",
    "for n_estimators in n_estimators_range:\n",
    "    # Create a Gradient Boosting Classifier with the current hyperparameter settings\n",
    "    gbc_classifier = GradientBoostingClassifier(n_estimators=n_estimators)\n",
    "    \n",
    "    # Perform cross-validation\n",
    "    cv_scores = cross_val_score(gbc_classifier, X_train, y_train, cv=kf, scoring='accuracy')\n",
    "    \n",
    "    # Calculate the mean cross-validation score\n",
    "    cv_scores_mean.append(np.mean(cv_scores))\n",
    "\n",
    "# Find the hyperparameters with the highest mean cross-validation score\n",
    "best_n_estimators = n_estimators_range[np.argmax(cv_scores_mean)]\n",
    "\n",
    "# Train the final Gradient Boosting Classifier using the best hyperparameters\n",
    "final_gbc_classifier = GradientBoostingClassifier(n_estimators=best_n_estimators)\n",
    "final_gbc_classifier.fit(X_train, y_train)\n",
    "\n",
    "# Evaluate the final classifier on the validation set\n",
    "validation_accuracy = accuracy_score(y_valid, final_gbc_classifier.predict(X_valid))\n",
    "print(\"Validation Accuracy with Best Hyperparameters:\", validation_accuracy)\n"
   ]
  },
  {
   "cell_type": "code",
   "execution_count": 154,
   "id": "91fde93f",
   "metadata": {
    "execution": {
     "iopub.execute_input": "2022-12-31T21:12:46.690476Z",
     "iopub.status.busy": "2022-12-31T21:12:46.689552Z",
     "iopub.status.idle": "2022-12-31T21:12:46.810583Z",
     "shell.execute_reply": "2022-12-31T21:12:46.809618Z"
    },
    "papermill": {
     "duration": 0.142456,
     "end_time": "2022-12-31T21:12:46.813254",
     "exception": false,
     "start_time": "2022-12-31T21:12:46.670798",
     "status": "completed"
    },
    "tags": []
   },
   "outputs": [],
   "source": [
    "from xgboost import XGBClassifier\n",
    "\n",
    "class CustomXGBClassifier(XGBClassifier):\n",
    "    \n",
    "    def __init__(self, **params):\n",
    "        \n",
    "        super().__init__(**params)\n",
    "        self.eval_set = params['eval_set']\n",
    "    \n",
    "    def fit(self, X, y):\n",
    "        super().fit(X, y, eval_set=self.eval_set, verbose=100) "
   ]
  },
  {
   "cell_type": "code",
   "execution_count": 155,
   "id": "cd8c02f4",
   "metadata": {
    "execution": {
     "iopub.execute_input": "2022-12-31T21:12:46.849946Z",
     "iopub.status.busy": "2022-12-31T21:12:46.849486Z",
     "iopub.status.idle": "2022-12-31T21:12:54.649912Z",
     "shell.execute_reply": "2022-12-31T21:12:54.648100Z"
    },
    "papermill": {
     "duration": 7.821925,
     "end_time": "2022-12-31T21:12:54.652685",
     "exception": false,
     "start_time": "2022-12-31T21:12:46.830760",
     "status": "completed"
    },
    "tags": []
   },
   "outputs": [
    {
     "name": "stdout",
     "output_type": "stream",
     "text": [
      "[0]\tvalidation_0-logloss:0.68942\n"
     ]
    },
    {
     "name": "stderr",
     "output_type": "stream",
     "text": [
      "c:\\Users\\indra\\AppData\\Local\\Programs\\Python\\Python312\\Lib\\site-packages\\xgboost\\core.py:160: UserWarning: [15:06:20] WARNING: C:\\buildkite-agent\\builds\\buildkite-windows-cpu-autoscaling-group-i-0b3782d1791676daf-1\\xgboost\\xgboost-ci-windows\\src\\learner.cc:742: \n",
      "Parameters: { \"eval_set\" } are not used.\n",
      "\n",
      "  warnings.warn(smsg, UserWarning)\n"
     ]
    },
    {
     "name": "stdout",
     "output_type": "stream",
     "text": [
      "[99]\tvalidation_0-logloss:0.49863\n",
      "[0]\tvalidation_0-logloss:0.68938\n"
     ]
    },
    {
     "name": "stderr",
     "output_type": "stream",
     "text": [
      "c:\\Users\\indra\\AppData\\Local\\Programs\\Python\\Python312\\Lib\\site-packages\\xgboost\\core.py:160: UserWarning: [15:06:21] WARNING: C:\\buildkite-agent\\builds\\buildkite-windows-cpu-autoscaling-group-i-0b3782d1791676daf-1\\xgboost\\xgboost-ci-windows\\src\\learner.cc:742: \n",
      "Parameters: { \"eval_set\" } are not used.\n",
      "\n",
      "  warnings.warn(smsg, UserWarning)\n"
     ]
    },
    {
     "name": "stdout",
     "output_type": "stream",
     "text": [
      "[99]\tvalidation_0-logloss:0.49841\n",
      "[0]\tvalidation_0-logloss:0.68922\n"
     ]
    },
    {
     "name": "stderr",
     "output_type": "stream",
     "text": [
      "c:\\Users\\indra\\AppData\\Local\\Programs\\Python\\Python312\\Lib\\site-packages\\xgboost\\core.py:160: UserWarning: [15:06:21] WARNING: C:\\buildkite-agent\\builds\\buildkite-windows-cpu-autoscaling-group-i-0b3782d1791676daf-1\\xgboost\\xgboost-ci-windows\\src\\learner.cc:742: \n",
      "Parameters: { \"eval_set\" } are not used.\n",
      "\n",
      "  warnings.warn(smsg, UserWarning)\n"
     ]
    },
    {
     "name": "stdout",
     "output_type": "stream",
     "text": [
      "[99]\tvalidation_0-logloss:0.49846\n",
      "[0]\tvalidation_0-logloss:0.68993\n"
     ]
    },
    {
     "name": "stderr",
     "output_type": "stream",
     "text": [
      "c:\\Users\\indra\\AppData\\Local\\Programs\\Python\\Python312\\Lib\\site-packages\\xgboost\\core.py:160: UserWarning: [15:06:21] WARNING: C:\\buildkite-agent\\builds\\buildkite-windows-cpu-autoscaling-group-i-0b3782d1791676daf-1\\xgboost\\xgboost-ci-windows\\src\\learner.cc:742: \n",
      "Parameters: { \"eval_set\" } are not used.\n",
      "\n",
      "  warnings.warn(smsg, UserWarning)\n"
     ]
    },
    {
     "name": "stdout",
     "output_type": "stream",
     "text": [
      "[99]\tvalidation_0-logloss:0.50412\n",
      "[0]\tvalidation_0-logloss:0.68940\n"
     ]
    },
    {
     "name": "stderr",
     "output_type": "stream",
     "text": [
      "c:\\Users\\indra\\AppData\\Local\\Programs\\Python\\Python312\\Lib\\site-packages\\xgboost\\core.py:160: UserWarning: [15:06:21] WARNING: C:\\buildkite-agent\\builds\\buildkite-windows-cpu-autoscaling-group-i-0b3782d1791676daf-1\\xgboost\\xgboost-ci-windows\\src\\learner.cc:742: \n",
      "Parameters: { \"eval_set\" } are not used.\n",
      "\n",
      "  warnings.warn(smsg, UserWarning)\n"
     ]
    },
    {
     "name": "stdout",
     "output_type": "stream",
     "text": [
      "[99]\tvalidation_0-logloss:0.49694\n",
      "[0]\tvalidation_0-logloss:0.65602\n"
     ]
    },
    {
     "name": "stderr",
     "output_type": "stream",
     "text": [
      "c:\\Users\\indra\\AppData\\Local\\Programs\\Python\\Python312\\Lib\\site-packages\\xgboost\\core.py:160: UserWarning: [15:06:22] WARNING: C:\\buildkite-agent\\builds\\buildkite-windows-cpu-autoscaling-group-i-0b3782d1791676daf-1\\xgboost\\xgboost-ci-windows\\src\\learner.cc:742: \n",
      "Parameters: { \"eval_set\" } are not used.\n",
      "\n",
      "  warnings.warn(smsg, UserWarning)\n"
     ]
    },
    {
     "name": "stdout",
     "output_type": "stream",
     "text": [
      "[99]\tvalidation_0-logloss:0.43588\n",
      "[0]\tvalidation_0-logloss:0.65515\n",
      "[79]\tvalidation_0-logloss:0.43897\n"
     ]
    },
    {
     "name": "stderr",
     "output_type": "stream",
     "text": [
      "c:\\Users\\indra\\AppData\\Local\\Programs\\Python\\Python312\\Lib\\site-packages\\xgboost\\core.py:160: UserWarning: [15:06:22] WARNING: C:\\buildkite-agent\\builds\\buildkite-windows-cpu-autoscaling-group-i-0b3782d1791676daf-1\\xgboost\\xgboost-ci-windows\\src\\learner.cc:742: \n",
      "Parameters: { \"eval_set\" } are not used.\n",
      "\n",
      "  warnings.warn(smsg, UserWarning)\n",
      "c:\\Users\\indra\\AppData\\Local\\Programs\\Python\\Python312\\Lib\\site-packages\\xgboost\\core.py:160: UserWarning: [15:06:22] WARNING: C:\\buildkite-agent\\builds\\buildkite-windows-cpu-autoscaling-group-i-0b3782d1791676daf-1\\xgboost\\xgboost-ci-windows\\src\\learner.cc:742: \n",
      "Parameters: { \"eval_set\" } are not used.\n",
      "\n",
      "  warnings.warn(smsg, UserWarning)\n"
     ]
    },
    {
     "name": "stdout",
     "output_type": "stream",
     "text": [
      "[0]\tvalidation_0-logloss:0.65517\n",
      "[75]\tvalidation_0-logloss:0.43605\n",
      "[0]\tvalidation_0-logloss:0.65638\n",
      "[85]\tvalidation_0-logloss:0.44342\n"
     ]
    },
    {
     "name": "stderr",
     "output_type": "stream",
     "text": [
      "c:\\Users\\indra\\AppData\\Local\\Programs\\Python\\Python312\\Lib\\site-packages\\xgboost\\core.py:160: UserWarning: [15:06:22] WARNING: C:\\buildkite-agent\\builds\\buildkite-windows-cpu-autoscaling-group-i-0b3782d1791676daf-1\\xgboost\\xgboost-ci-windows\\src\\learner.cc:742: \n",
      "Parameters: { \"eval_set\" } are not used.\n",
      "\n",
      "  warnings.warn(smsg, UserWarning)\n"
     ]
    },
    {
     "name": "stdout",
     "output_type": "stream",
     "text": [
      "[0]\tvalidation_0-logloss:0.65500\n",
      "[81]\tvalidation_0-logloss:0.43544\n"
     ]
    },
    {
     "name": "stderr",
     "output_type": "stream",
     "text": [
      "c:\\Users\\indra\\AppData\\Local\\Programs\\Python\\Python312\\Lib\\site-packages\\xgboost\\core.py:160: UserWarning: [15:06:23] WARNING: C:\\buildkite-agent\\builds\\buildkite-windows-cpu-autoscaling-group-i-0b3782d1791676daf-1\\xgboost\\xgboost-ci-windows\\src\\learner.cc:742: \n",
      "Parameters: { \"eval_set\" } are not used.\n",
      "\n",
      "  warnings.warn(smsg, UserWarning)\n",
      "c:\\Users\\indra\\AppData\\Local\\Programs\\Python\\Python312\\Lib\\site-packages\\xgboost\\core.py:160: UserWarning: [15:06:23] WARNING: C:\\buildkite-agent\\builds\\buildkite-windows-cpu-autoscaling-group-i-0b3782d1791676daf-1\\xgboost\\xgboost-ci-windows\\src\\learner.cc:742: \n",
      "Parameters: { \"eval_set\" } are not used.\n",
      "\n",
      "  warnings.warn(smsg, UserWarning)\n"
     ]
    },
    {
     "name": "stdout",
     "output_type": "stream",
     "text": [
      "[0]\tvalidation_0-logloss:0.62303\n",
      "[71]\tvalidation_0-logloss:0.44448\n",
      "[0]\tvalidation_0-logloss:0.62122\n",
      "[62]\tvalidation_0-logloss:0.45502\n",
      "[0]\tvalidation_0-logloss:0.62146\n"
     ]
    },
    {
     "name": "stderr",
     "output_type": "stream",
     "text": [
      "c:\\Users\\indra\\AppData\\Local\\Programs\\Python\\Python312\\Lib\\site-packages\\xgboost\\core.py:160: UserWarning: [15:06:23] WARNING: C:\\buildkite-agent\\builds\\buildkite-windows-cpu-autoscaling-group-i-0b3782d1791676daf-1\\xgboost\\xgboost-ci-windows\\src\\learner.cc:742: \n",
      "Parameters: { \"eval_set\" } are not used.\n",
      "\n",
      "  warnings.warn(smsg, UserWarning)\n",
      "c:\\Users\\indra\\AppData\\Local\\Programs\\Python\\Python312\\Lib\\site-packages\\xgboost\\core.py:160: UserWarning: [15:06:23] WARNING: C:\\buildkite-agent\\builds\\buildkite-windows-cpu-autoscaling-group-i-0b3782d1791676daf-1\\xgboost\\xgboost-ci-windows\\src\\learner.cc:742: \n",
      "Parameters: { \"eval_set\" } are not used.\n",
      "\n",
      "  warnings.warn(smsg, UserWarning)\n"
     ]
    },
    {
     "name": "stdout",
     "output_type": "stream",
     "text": [
      "[61]\tvalidation_0-logloss:0.43628\n",
      "[0]\tvalidation_0-logloss:0.62318\n",
      "[68]\tvalidation_0-logloss:0.44952\n",
      "[0]\tvalidation_0-logloss:0.62090\n"
     ]
    },
    {
     "name": "stderr",
     "output_type": "stream",
     "text": [
      "c:\\Users\\indra\\AppData\\Local\\Programs\\Python\\Python312\\Lib\\site-packages\\xgboost\\core.py:160: UserWarning: [15:06:23] WARNING: C:\\buildkite-agent\\builds\\buildkite-windows-cpu-autoscaling-group-i-0b3782d1791676daf-1\\xgboost\\xgboost-ci-windows\\src\\learner.cc:742: \n",
      "Parameters: { \"eval_set\" } are not used.\n",
      "\n",
      "  warnings.warn(smsg, UserWarning)\n",
      "c:\\Users\\indra\\AppData\\Local\\Programs\\Python\\Python312\\Lib\\site-packages\\xgboost\\core.py:160: UserWarning: [15:06:24] WARNING: C:\\buildkite-agent\\builds\\buildkite-windows-cpu-autoscaling-group-i-0b3782d1791676daf-1\\xgboost\\xgboost-ci-windows\\src\\learner.cc:742: \n",
      "Parameters: { \"eval_set\" } are not used.\n",
      "\n",
      "  warnings.warn(smsg, UserWarning)\n"
     ]
    },
    {
     "name": "stdout",
     "output_type": "stream",
     "text": [
      "[66]\tvalidation_0-logloss:0.44384\n",
      "[0]\tvalidation_0-logloss:0.68942\n"
     ]
    },
    {
     "name": "stderr",
     "output_type": "stream",
     "text": [
      "c:\\Users\\indra\\AppData\\Local\\Programs\\Python\\Python312\\Lib\\site-packages\\xgboost\\core.py:160: UserWarning: [15:06:24] WARNING: C:\\buildkite-agent\\builds\\buildkite-windows-cpu-autoscaling-group-i-0b3782d1791676daf-1\\xgboost\\xgboost-ci-windows\\src\\learner.cc:742: \n",
      "Parameters: { \"eval_set\" } are not used.\n",
      "\n",
      "  warnings.warn(smsg, UserWarning)\n"
     ]
    },
    {
     "name": "stdout",
     "output_type": "stream",
     "text": [
      "[100]\tvalidation_0-logloss:0.49780\n",
      "[199]\tvalidation_0-logloss:0.45466\n",
      "[0]\tvalidation_0-logloss:0.68938\n"
     ]
    },
    {
     "name": "stderr",
     "output_type": "stream",
     "text": [
      "c:\\Users\\indra\\AppData\\Local\\Programs\\Python\\Python312\\Lib\\site-packages\\xgboost\\core.py:160: UserWarning: [15:06:24] WARNING: C:\\buildkite-agent\\builds\\buildkite-windows-cpu-autoscaling-group-i-0b3782d1791676daf-1\\xgboost\\xgboost-ci-windows\\src\\learner.cc:742: \n",
      "Parameters: { \"eval_set\" } are not used.\n",
      "\n",
      "  warnings.warn(smsg, UserWarning)\n"
     ]
    },
    {
     "name": "stdout",
     "output_type": "stream",
     "text": [
      "[100]\tvalidation_0-logloss:0.49756\n",
      "[199]\tvalidation_0-logloss:0.45199\n",
      "[0]\tvalidation_0-logloss:0.68922\n",
      "[100]\tvalidation_0-logloss:0.49763\n"
     ]
    },
    {
     "name": "stderr",
     "output_type": "stream",
     "text": [
      "c:\\Users\\indra\\AppData\\Local\\Programs\\Python\\Python312\\Lib\\site-packages\\xgboost\\core.py:160: UserWarning: [15:06:25] WARNING: C:\\buildkite-agent\\builds\\buildkite-windows-cpu-autoscaling-group-i-0b3782d1791676daf-1\\xgboost\\xgboost-ci-windows\\src\\learner.cc:742: \n",
      "Parameters: { \"eval_set\" } are not used.\n",
      "\n",
      "  warnings.warn(smsg, UserWarning)\n"
     ]
    },
    {
     "name": "stdout",
     "output_type": "stream",
     "text": [
      "[199]\tvalidation_0-logloss:0.45027\n",
      "[0]\tvalidation_0-logloss:0.68993\n",
      "[100]\tvalidation_0-logloss:0.50327\n"
     ]
    },
    {
     "name": "stderr",
     "output_type": "stream",
     "text": [
      "c:\\Users\\indra\\AppData\\Local\\Programs\\Python\\Python312\\Lib\\site-packages\\xgboost\\core.py:160: UserWarning: [15:06:25] WARNING: C:\\buildkite-agent\\builds\\buildkite-windows-cpu-autoscaling-group-i-0b3782d1791676daf-1\\xgboost\\xgboost-ci-windows\\src\\learner.cc:742: \n",
      "Parameters: { \"eval_set\" } are not used.\n",
      "\n",
      "  warnings.warn(smsg, UserWarning)\n"
     ]
    },
    {
     "name": "stdout",
     "output_type": "stream",
     "text": [
      "[199]\tvalidation_0-logloss:0.45826\n",
      "[0]\tvalidation_0-logloss:0.68940\n"
     ]
    },
    {
     "name": "stderr",
     "output_type": "stream",
     "text": [
      "c:\\Users\\indra\\AppData\\Local\\Programs\\Python\\Python312\\Lib\\site-packages\\xgboost\\core.py:160: UserWarning: [15:06:26] WARNING: C:\\buildkite-agent\\builds\\buildkite-windows-cpu-autoscaling-group-i-0b3782d1791676daf-1\\xgboost\\xgboost-ci-windows\\src\\learner.cc:742: \n",
      "Parameters: { \"eval_set\" } are not used.\n",
      "\n",
      "  warnings.warn(smsg, UserWarning)\n"
     ]
    },
    {
     "name": "stdout",
     "output_type": "stream",
     "text": [
      "[100]\tvalidation_0-logloss:0.49615\n",
      "[199]\tvalidation_0-logloss:0.45038\n",
      "[0]\tvalidation_0-logloss:0.65602\n",
      "[100]\tvalidation_0-logloss:0.43544\n"
     ]
    },
    {
     "name": "stderr",
     "output_type": "stream",
     "text": [
      "c:\\Users\\indra\\AppData\\Local\\Programs\\Python\\Python312\\Lib\\site-packages\\xgboost\\core.py:160: UserWarning: [15:06:26] WARNING: C:\\buildkite-agent\\builds\\buildkite-windows-cpu-autoscaling-group-i-0b3782d1791676daf-1\\xgboost\\xgboost-ci-windows\\src\\learner.cc:742: \n",
      "Parameters: { \"eval_set\" } are not used.\n",
      "\n",
      "  warnings.warn(smsg, UserWarning)\n"
     ]
    },
    {
     "name": "stdout",
     "output_type": "stream",
     "text": [
      "[121]\tvalidation_0-logloss:0.43900\n",
      "[0]\tvalidation_0-logloss:0.65515\n",
      "[79]\tvalidation_0-logloss:0.43897\n",
      "[0]\tvalidation_0-logloss:0.65517\n"
     ]
    },
    {
     "name": "stderr",
     "output_type": "stream",
     "text": [
      "c:\\Users\\indra\\AppData\\Local\\Programs\\Python\\Python312\\Lib\\site-packages\\xgboost\\core.py:160: UserWarning: [15:06:26] WARNING: C:\\buildkite-agent\\builds\\buildkite-windows-cpu-autoscaling-group-i-0b3782d1791676daf-1\\xgboost\\xgboost-ci-windows\\src\\learner.cc:742: \n",
      "Parameters: { \"eval_set\" } are not used.\n",
      "\n",
      "  warnings.warn(smsg, UserWarning)\n",
      "c:\\Users\\indra\\AppData\\Local\\Programs\\Python\\Python312\\Lib\\site-packages\\xgboost\\core.py:160: UserWarning: [15:06:26] WARNING: C:\\buildkite-agent\\builds\\buildkite-windows-cpu-autoscaling-group-i-0b3782d1791676daf-1\\xgboost\\xgboost-ci-windows\\src\\learner.cc:742: \n",
      "Parameters: { \"eval_set\" } are not used.\n",
      "\n",
      "  warnings.warn(smsg, UserWarning)\n"
     ]
    },
    {
     "name": "stdout",
     "output_type": "stream",
     "text": [
      "[76]\tvalidation_0-logloss:0.43621\n",
      "[0]\tvalidation_0-logloss:0.65638\n",
      "[85]\tvalidation_0-logloss:0.44342\n"
     ]
    },
    {
     "name": "stderr",
     "output_type": "stream",
     "text": [
      "c:\\Users\\indra\\AppData\\Local\\Programs\\Python\\Python312\\Lib\\site-packages\\xgboost\\core.py:160: UserWarning: [15:06:27] WARNING: C:\\buildkite-agent\\builds\\buildkite-windows-cpu-autoscaling-group-i-0b3782d1791676daf-1\\xgboost\\xgboost-ci-windows\\src\\learner.cc:742: \n",
      "Parameters: { \"eval_set\" } are not used.\n",
      "\n",
      "  warnings.warn(smsg, UserWarning)\n"
     ]
    },
    {
     "name": "stdout",
     "output_type": "stream",
     "text": [
      "[0]\tvalidation_0-logloss:0.65500\n",
      "[81]\tvalidation_0-logloss:0.43544\n"
     ]
    },
    {
     "name": "stderr",
     "output_type": "stream",
     "text": [
      "c:\\Users\\indra\\AppData\\Local\\Programs\\Python\\Python312\\Lib\\site-packages\\xgboost\\core.py:160: UserWarning: [15:06:27] WARNING: C:\\buildkite-agent\\builds\\buildkite-windows-cpu-autoscaling-group-i-0b3782d1791676daf-1\\xgboost\\xgboost-ci-windows\\src\\learner.cc:742: \n",
      "Parameters: { \"eval_set\" } are not used.\n",
      "\n",
      "  warnings.warn(smsg, UserWarning)\n",
      "c:\\Users\\indra\\AppData\\Local\\Programs\\Python\\Python312\\Lib\\site-packages\\xgboost\\core.py:160: UserWarning: [15:06:27] WARNING: C:\\buildkite-agent\\builds\\buildkite-windows-cpu-autoscaling-group-i-0b3782d1791676daf-1\\xgboost\\xgboost-ci-windows\\src\\learner.cc:742: \n",
      "Parameters: { \"eval_set\" } are not used.\n",
      "\n",
      "  warnings.warn(smsg, UserWarning)\n"
     ]
    },
    {
     "name": "stdout",
     "output_type": "stream",
     "text": [
      "[0]\tvalidation_0-logloss:0.62303\n",
      "[72]\tvalidation_0-logloss:0.44448\n",
      "[0]\tvalidation_0-logloss:0.62122\n",
      "[62]\tvalidation_0-logloss:0.45502\n",
      "[0]\tvalidation_0-logloss:0.62146\n"
     ]
    },
    {
     "name": "stderr",
     "output_type": "stream",
     "text": [
      "c:\\Users\\indra\\AppData\\Local\\Programs\\Python\\Python312\\Lib\\site-packages\\xgboost\\core.py:160: UserWarning: [15:06:27] WARNING: C:\\buildkite-agent\\builds\\buildkite-windows-cpu-autoscaling-group-i-0b3782d1791676daf-1\\xgboost\\xgboost-ci-windows\\src\\learner.cc:742: \n",
      "Parameters: { \"eval_set\" } are not used.\n",
      "\n",
      "  warnings.warn(smsg, UserWarning)\n",
      "c:\\Users\\indra\\AppData\\Local\\Programs\\Python\\Python312\\Lib\\site-packages\\xgboost\\core.py:160: UserWarning: [15:06:27] WARNING: C:\\buildkite-agent\\builds\\buildkite-windows-cpu-autoscaling-group-i-0b3782d1791676daf-1\\xgboost\\xgboost-ci-windows\\src\\learner.cc:742: \n",
      "Parameters: { \"eval_set\" } are not used.\n",
      "\n",
      "  warnings.warn(smsg, UserWarning)\n"
     ]
    },
    {
     "name": "stdout",
     "output_type": "stream",
     "text": [
      "[61]\tvalidation_0-logloss:0.43628\n",
      "[0]\tvalidation_0-logloss:0.62318\n",
      "[69]\tvalidation_0-logloss:0.44922\n",
      "[0]\tvalidation_0-logloss:0.62090"
     ]
    },
    {
     "name": "stderr",
     "output_type": "stream",
     "text": [
      "c:\\Users\\indra\\AppData\\Local\\Programs\\Python\\Python312\\Lib\\site-packages\\xgboost\\core.py:160: UserWarning: [15:06:28] WARNING: C:\\buildkite-agent\\builds\\buildkite-windows-cpu-autoscaling-group-i-0b3782d1791676daf-1\\xgboost\\xgboost-ci-windows\\src\\learner.cc:742: \n",
      "Parameters: { \"eval_set\" } are not used.\n",
      "\n",
      "  warnings.warn(smsg, UserWarning)\n",
      "c:\\Users\\indra\\AppData\\Local\\Programs\\Python\\Python312\\Lib\\site-packages\\xgboost\\core.py:160: UserWarning: [15:06:28] WARNING: C:\\buildkite-agent\\builds\\buildkite-windows-cpu-autoscaling-group-i-0b3782d1791676daf-1\\xgboost\\xgboost-ci-windows\\src\\learner.cc:742: \n",
      "Parameters: { \"eval_set\" } are not used.\n",
      "\n",
      "  warnings.warn(smsg, UserWarning)\n"
     ]
    },
    {
     "name": "stdout",
     "output_type": "stream",
     "text": [
      "\n",
      "[65]\tvalidation_0-logloss:0.44434\n",
      "[0]\tvalidation_0-logloss:0.68942\n"
     ]
    },
    {
     "name": "stderr",
     "output_type": "stream",
     "text": [
      "c:\\Users\\indra\\AppData\\Local\\Programs\\Python\\Python312\\Lib\\site-packages\\xgboost\\core.py:160: UserWarning: [15:06:28] WARNING: C:\\buildkite-agent\\builds\\buildkite-windows-cpu-autoscaling-group-i-0b3782d1791676daf-1\\xgboost\\xgboost-ci-windows\\src\\learner.cc:742: \n",
      "Parameters: { \"eval_set\" } are not used.\n",
      "\n",
      "  warnings.warn(smsg, UserWarning)\n"
     ]
    },
    {
     "name": "stdout",
     "output_type": "stream",
     "text": [
      "[100]\tvalidation_0-logloss:0.49780\n",
      "[200]\tvalidation_0-logloss:0.45443\n",
      "[299]\tvalidation_0-logloss:0.44179\n",
      "[0]\tvalidation_0-logloss:0.68938\n"
     ]
    },
    {
     "name": "stderr",
     "output_type": "stream",
     "text": [
      "c:\\Users\\indra\\AppData\\Local\\Programs\\Python\\Python312\\Lib\\site-packages\\xgboost\\core.py:160: UserWarning: [15:06:28] WARNING: C:\\buildkite-agent\\builds\\buildkite-windows-cpu-autoscaling-group-i-0b3782d1791676daf-1\\xgboost\\xgboost-ci-windows\\src\\learner.cc:742: \n",
      "Parameters: { \"eval_set\" } are not used.\n",
      "\n",
      "  warnings.warn(smsg, UserWarning)\n"
     ]
    },
    {
     "name": "stdout",
     "output_type": "stream",
     "text": [
      "[100]\tvalidation_0-logloss:0.49756\n",
      "[200]\tvalidation_0-logloss:0.45178\n",
      "[299]\tvalidation_0-logloss:0.43827\n",
      "[0]\tvalidation_0-logloss:0.68922\n",
      "[100]\tvalidation_0-logloss:0.49763"
     ]
    },
    {
     "name": "stderr",
     "output_type": "stream",
     "text": [
      "c:\\Users\\indra\\AppData\\Local\\Programs\\Python\\Python312\\Lib\\site-packages\\xgboost\\core.py:160: UserWarning: [15:06:29] WARNING: C:\\buildkite-agent\\builds\\buildkite-windows-cpu-autoscaling-group-i-0b3782d1791676daf-1\\xgboost\\xgboost-ci-windows\\src\\learner.cc:742: \n",
      "Parameters: { \"eval_set\" } are not used.\n",
      "\n",
      "  warnings.warn(smsg, UserWarning)\n"
     ]
    },
    {
     "name": "stdout",
     "output_type": "stream",
     "text": [
      "\n",
      "[200]\tvalidation_0-logloss:0.44999\n",
      "[299]\tvalidation_0-logloss:0.43642\n",
      "[0]\tvalidation_0-logloss:0.68993\n"
     ]
    },
    {
     "name": "stderr",
     "output_type": "stream",
     "text": [
      "c:\\Users\\indra\\AppData\\Local\\Programs\\Python\\Python312\\Lib\\site-packages\\xgboost\\core.py:160: UserWarning: [15:06:30] WARNING: C:\\buildkite-agent\\builds\\buildkite-windows-cpu-autoscaling-group-i-0b3782d1791676daf-1\\xgboost\\xgboost-ci-windows\\src\\learner.cc:742: \n",
      "Parameters: { \"eval_set\" } are not used.\n",
      "\n",
      "  warnings.warn(smsg, UserWarning)\n"
     ]
    },
    {
     "name": "stdout",
     "output_type": "stream",
     "text": [
      "[100]\tvalidation_0-logloss:0.50327\n",
      "[200]\tvalidation_0-logloss:0.45799\n",
      "[299]\tvalidation_0-logloss:0.44461\n",
      "[0]\tvalidation_0-logloss:0.68940\n"
     ]
    },
    {
     "name": "stderr",
     "output_type": "stream",
     "text": [
      "c:\\Users\\indra\\AppData\\Local\\Programs\\Python\\Python312\\Lib\\site-packages\\xgboost\\core.py:160: UserWarning: [15:06:31] WARNING: C:\\buildkite-agent\\builds\\buildkite-windows-cpu-autoscaling-group-i-0b3782d1791676daf-1\\xgboost\\xgboost-ci-windows\\src\\learner.cc:742: \n",
      "Parameters: { \"eval_set\" } are not used.\n",
      "\n",
      "  warnings.warn(smsg, UserWarning)\n"
     ]
    },
    {
     "name": "stdout",
     "output_type": "stream",
     "text": [
      "[100]\tvalidation_0-logloss:0.49615\n",
      "[200]\tvalidation_0-logloss:0.45016\n",
      "[299]\tvalidation_0-logloss:0.43545\n",
      "[0]\tvalidation_0-logloss:0.65602\n",
      "[100]\tvalidation_0-logloss:0.43544\n"
     ]
    },
    {
     "name": "stderr",
     "output_type": "stream",
     "text": [
      "c:\\Users\\indra\\AppData\\Local\\Programs\\Python\\Python312\\Lib\\site-packages\\xgboost\\core.py:160: UserWarning: [15:06:31] WARNING: C:\\buildkite-agent\\builds\\buildkite-windows-cpu-autoscaling-group-i-0b3782d1791676daf-1\\xgboost\\xgboost-ci-windows\\src\\learner.cc:742: \n",
      "Parameters: { \"eval_set\" } are not used.\n",
      "\n",
      "  warnings.warn(smsg, UserWarning)\n"
     ]
    },
    {
     "name": "stdout",
     "output_type": "stream",
     "text": [
      "[122]\tvalidation_0-logloss:0.43896\n",
      "[0]\tvalidation_0-logloss:0.65515\n",
      "[79]\tvalidation_0-logloss:0.43897\n",
      "[0]\tvalidation_0-logloss:0.65517\n"
     ]
    },
    {
     "name": "stderr",
     "output_type": "stream",
     "text": [
      "c:\\Users\\indra\\AppData\\Local\\Programs\\Python\\Python312\\Lib\\site-packages\\xgboost\\core.py:160: UserWarning: [15:06:31] WARNING: C:\\buildkite-agent\\builds\\buildkite-windows-cpu-autoscaling-group-i-0b3782d1791676daf-1\\xgboost\\xgboost-ci-windows\\src\\learner.cc:742: \n",
      "Parameters: { \"eval_set\" } are not used.\n",
      "\n",
      "  warnings.warn(smsg, UserWarning)\n",
      "c:\\Users\\indra\\AppData\\Local\\Programs\\Python\\Python312\\Lib\\site-packages\\xgboost\\core.py:160: UserWarning: [15:06:32] WARNING: C:\\buildkite-agent\\builds\\buildkite-windows-cpu-autoscaling-group-i-0b3782d1791676daf-1\\xgboost\\xgboost-ci-windows\\src\\learner.cc:742: \n",
      "Parameters: { \"eval_set\" } are not used.\n",
      "\n",
      "  warnings.warn(smsg, UserWarning)\n"
     ]
    },
    {
     "name": "stdout",
     "output_type": "stream",
     "text": [
      "[75]\tvalidation_0-logloss:0.43605\n",
      "[0]\tvalidation_0-logloss:0.65638\n",
      "[86]\tvalidation_0-logloss:0.44353\n"
     ]
    },
    {
     "name": "stderr",
     "output_type": "stream",
     "text": [
      "c:\\Users\\indra\\AppData\\Local\\Programs\\Python\\Python312\\Lib\\site-packages\\xgboost\\core.py:160: UserWarning: [15:06:32] WARNING: C:\\buildkite-agent\\builds\\buildkite-windows-cpu-autoscaling-group-i-0b3782d1791676daf-1\\xgboost\\xgboost-ci-windows\\src\\learner.cc:742: \n",
      "Parameters: { \"eval_set\" } are not used.\n",
      "\n",
      "  warnings.warn(smsg, UserWarning)\n"
     ]
    },
    {
     "name": "stdout",
     "output_type": "stream",
     "text": [
      "[0]\tvalidation_0-logloss:0.65500\n",
      "[81]\tvalidation_0-logloss:0.43544\n"
     ]
    },
    {
     "name": "stderr",
     "output_type": "stream",
     "text": [
      "c:\\Users\\indra\\AppData\\Local\\Programs\\Python\\Python312\\Lib\\site-packages\\xgboost\\core.py:160: UserWarning: [15:06:32] WARNING: C:\\buildkite-agent\\builds\\buildkite-windows-cpu-autoscaling-group-i-0b3782d1791676daf-1\\xgboost\\xgboost-ci-windows\\src\\learner.cc:742: \n",
      "Parameters: { \"eval_set\" } are not used.\n",
      "\n",
      "  warnings.warn(smsg, UserWarning)\n",
      "c:\\Users\\indra\\AppData\\Local\\Programs\\Python\\Python312\\Lib\\site-packages\\xgboost\\core.py:160: UserWarning: [15:06:32] WARNING: C:\\buildkite-agent\\builds\\buildkite-windows-cpu-autoscaling-group-i-0b3782d1791676daf-1\\xgboost\\xgboost-ci-windows\\src\\learner.cc:742: \n",
      "Parameters: { \"eval_set\" } are not used.\n",
      "\n",
      "  warnings.warn(smsg, UserWarning)\n"
     ]
    },
    {
     "name": "stdout",
     "output_type": "stream",
     "text": [
      "[0]\tvalidation_0-logloss:0.62303\n",
      "[71]\tvalidation_0-logloss:0.44448\n",
      "[0]\tvalidation_0-logloss:0.62122\n",
      "[62]\tvalidation_0-logloss:0.45502\n",
      "[0]\tvalidation_0-logloss:0.62146\n"
     ]
    },
    {
     "name": "stderr",
     "output_type": "stream",
     "text": [
      "c:\\Users\\indra\\AppData\\Local\\Programs\\Python\\Python312\\Lib\\site-packages\\xgboost\\core.py:160: UserWarning: [15:06:32] WARNING: C:\\buildkite-agent\\builds\\buildkite-windows-cpu-autoscaling-group-i-0b3782d1791676daf-1\\xgboost\\xgboost-ci-windows\\src\\learner.cc:742: \n",
      "Parameters: { \"eval_set\" } are not used.\n",
      "\n",
      "  warnings.warn(smsg, UserWarning)\n",
      "c:\\Users\\indra\\AppData\\Local\\Programs\\Python\\Python312\\Lib\\site-packages\\xgboost\\core.py:160: UserWarning: [15:06:33] WARNING: C:\\buildkite-agent\\builds\\buildkite-windows-cpu-autoscaling-group-i-0b3782d1791676daf-1\\xgboost\\xgboost-ci-windows\\src\\learner.cc:742: \n",
      "Parameters: { \"eval_set\" } are not used.\n",
      "\n",
      "  warnings.warn(smsg, UserWarning)\n"
     ]
    },
    {
     "name": "stdout",
     "output_type": "stream",
     "text": [
      "[61]\tvalidation_0-logloss:0.43628\n",
      "[0]\tvalidation_0-logloss:0.62318\n",
      "[69]\tvalidation_0-logloss:0.44922\n",
      "[0]\tvalidation_0-logloss:0.62090\n"
     ]
    },
    {
     "name": "stderr",
     "output_type": "stream",
     "text": [
      "c:\\Users\\indra\\AppData\\Local\\Programs\\Python\\Python312\\Lib\\site-packages\\xgboost\\core.py:160: UserWarning: [15:06:33] WARNING: C:\\buildkite-agent\\builds\\buildkite-windows-cpu-autoscaling-group-i-0b3782d1791676daf-1\\xgboost\\xgboost-ci-windows\\src\\learner.cc:742: \n",
      "Parameters: { \"eval_set\" } are not used.\n",
      "\n",
      "  warnings.warn(smsg, UserWarning)\n",
      "c:\\Users\\indra\\AppData\\Local\\Programs\\Python\\Python312\\Lib\\site-packages\\xgboost\\core.py:160: UserWarning: [15:06:33] WARNING: C:\\buildkite-agent\\builds\\buildkite-windows-cpu-autoscaling-group-i-0b3782d1791676daf-1\\xgboost\\xgboost-ci-windows\\src\\learner.cc:742: \n",
      "Parameters: { \"eval_set\" } are not used.\n",
      "\n",
      "  warnings.warn(smsg, UserWarning)\n"
     ]
    },
    {
     "name": "stdout",
     "output_type": "stream",
     "text": [
      "[66]\tvalidation_0-logloss:0.44384\n",
      "[0]\tvalidation_0-logloss:0.62040\n",
      "[78]\tvalidation_0-logloss:0.44769\n",
      "Validation Accuracy with Best Hyperparameters: 0.7901092581943646\n"
     ]
    },
    {
     "name": "stderr",
     "output_type": "stream",
     "text": [
      "c:\\Users\\indra\\AppData\\Local\\Programs\\Python\\Python312\\Lib\\site-packages\\xgboost\\core.py:160: UserWarning: [15:06:33] WARNING: C:\\buildkite-agent\\builds\\buildkite-windows-cpu-autoscaling-group-i-0b3782d1791676daf-1\\xgboost\\xgboost-ci-windows\\src\\learner.cc:742: \n",
      "Parameters: { \"eval_set\" } are not used.\n",
      "\n",
      "  warnings.warn(smsg, UserWarning)\n"
     ]
    }
   ],
   "source": [
    "# Define the number of folds for cross-validation\n",
    "num_folds = 5\n",
    "\n",
    "# Define the cross-validation method\n",
    "kf = KFold(n_splits=num_folds, shuffle=True, random_state=42)\n",
    "\n",
    "# Define a range of hyperparameters to search\n",
    "n_estimators_range = [100, 200, 300]  # Example range for the number of estimators\n",
    "learning_rate_range = [0.01, 0.1, 0.2]  # Example range for the learning rate\n",
    "# Add more hyperparameters as needed\n",
    "\n",
    "# Store the mean cross-validation scores for each hyperparameter setting\n",
    "cv_scores_mean = []\n",
    "\n",
    "for n_estimators in n_estimators_range:\n",
    "    for learning_rate in learning_rate_range:\n",
    "        # Create a Custom XGBoost Classifier with the current hyperparameter settings\n",
    "        xgb_classifier = CustomXGBClassifier(n_estimators=n_estimators, learning_rate=learning_rate, eval_set=[(X_valid, y_valid)], early_stopping_rounds=40)\n",
    "        \n",
    "        # Perform cross-validation\n",
    "        cv_scores = cross_val_score(xgb_classifier, X_train, y_train, cv=kf, scoring='accuracy')\n",
    "        \n",
    "        # Calculate the mean cross-validation score\n",
    "        cv_scores_mean.append(np.mean(cv_scores))\n",
    "\n",
    "# Find the hyperparameters with the highest mean cross-validation score\n",
    "best_params_index = np.argmax(cv_scores_mean)\n",
    "best_n_estimators = n_estimators_range[best_params_index // len(learning_rate_range)]\n",
    "best_learning_rate = learning_rate_range[best_params_index % len(learning_rate_range)]\n",
    "\n",
    "# Train the final Custom XGBoost Classifier using the best hyperparameters\n",
    "final_xgb_classifier = CustomXGBClassifier(n_estimators=best_n_estimators, learning_rate=best_learning_rate, eval_set=[(X_valid, y_valid)], early_stopping_rounds=40)\n",
    "final_xgb_classifier.fit(X_train, y_train)\n",
    "\n",
    "# Evaluate the final classifier on the validation set\n",
    "validation_accuracy = accuracy_score(y_valid, final_xgb_classifier.predict(X_valid))\n",
    "print(\"Validation Accuracy with Best Hyperparameters:\", validation_accuracy)"
   ]
  },
  {
   "cell_type": "code",
   "execution_count": 156,
   "id": "289b2b13",
   "metadata": {
    "execution": {
     "iopub.execute_input": "2022-12-31T21:12:54.729961Z",
     "iopub.status.busy": "2022-12-31T21:12:54.729557Z",
     "iopub.status.idle": "2022-12-31T21:13:19.625580Z",
     "shell.execute_reply": "2022-12-31T21:13:19.624003Z"
    },
    "papermill": {
     "duration": 24.920156,
     "end_time": "2022-12-31T21:13:19.629981",
     "exception": false,
     "start_time": "2022-12-31T21:12:54.709825",
     "status": "completed"
    },
    "tags": []
   },
   "outputs": [
    {
     "name": "stdout",
     "output_type": "stream",
     "text": [
      "[0]\tvalidation_0-logloss:0.62040\n",
      "[77]\tvalidation_0-logloss:0.44759\n"
     ]
    },
    {
     "name": "stderr",
     "output_type": "stream",
     "text": [
      "c:\\Users\\indra\\AppData\\Local\\Programs\\Python\\Python312\\Lib\\site-packages\\xgboost\\core.py:160: UserWarning: [15:06:34] WARNING: C:\\buildkite-agent\\builds\\buildkite-windows-cpu-autoscaling-group-i-0b3782d1791676daf-1\\xgboost\\xgboost-ci-windows\\src\\learner.cc:742: \n",
      "Parameters: { \"eval_set\" } are not used.\n",
      "\n",
      "  warnings.warn(smsg, UserWarning)\n"
     ]
    },
    {
     "name": "stdout",
     "output_type": "stream",
     "text": [
      "0.7929844738355377\n"
     ]
    }
   ],
   "source": [
    "from sklearn.ensemble import VotingClassifier\n",
    "\n",
    "model = VotingClassifier(\n",
    "    estimators = [\n",
    "        ('xgb', final_xgb_classifier),\n",
    "        ('rf', final_rf_classifier),\n",
    "        ('lr', final_rf_classifier),\n",
    "        ('gbc', final_gbc_classifier)\n",
    "    ],\n",
    "    voting = 'soft'\n",
    ")\n",
    "\n",
    "model.fit(X_train, y_train)\n",
    "\n",
    "print(accuracy_score(y_valid, model.predict(X_valid)))"
   ]
  },
  {
   "cell_type": "markdown",
   "id": "c36cdcde",
   "metadata": {
    "papermill": {
     "duration": 0.018876,
     "end_time": "2022-12-31T21:13:19.801379",
     "exception": false,
     "start_time": "2022-12-31T21:13:19.782503",
     "status": "completed"
    },
    "tags": []
   },
   "source": [
    "**Submit**"
   ]
  },
  {
   "cell_type": "code",
   "execution_count": 157,
   "id": "7e3cc077",
   "metadata": {
    "execution": {
     "iopub.execute_input": "2022-12-31T21:13:19.840383Z",
     "iopub.status.busy": "2022-12-31T21:13:19.839990Z",
     "iopub.status.idle": "2022-12-31T21:13:19.866461Z",
     "shell.execute_reply": "2022-12-31T21:13:19.865553Z"
    },
    "papermill": {
     "duration": 0.048854,
     "end_time": "2022-12-31T21:13:19.868906",
     "exception": false,
     "start_time": "2022-12-31T21:13:19.820052",
     "status": "completed"
    },
    "tags": []
   },
   "outputs": [],
   "source": [
    "test_df = pd.read_csv(\"../dataset/test.csv\")"
   ]
  },
  {
   "cell_type": "code",
   "execution_count": 158,
   "id": "86ad918b",
   "metadata": {},
   "outputs": [],
   "source": [
    "test_df[['deck', 'num', 'side']] = test_df['Cabin'].str.extract(r'(\\w)(\\d+)(\\w)')"
   ]
  },
  {
   "cell_type": "code",
   "execution_count": 159,
   "id": "392dcb89",
   "metadata": {},
   "outputs": [],
   "source": [
    "test_df.drop([\"Cabin\"], axis=1, inplace=True)"
   ]
  },
  {
   "cell_type": "code",
   "execution_count": 160,
   "id": "1194c675",
   "metadata": {
    "execution": {
     "iopub.execute_input": "2022-12-31T21:13:19.945630Z",
     "iopub.status.busy": "2022-12-31T21:13:19.945045Z",
     "iopub.status.idle": "2022-12-31T21:13:19.958286Z",
     "shell.execute_reply": "2022-12-31T21:13:19.957352Z"
    },
    "papermill": {
     "duration": 0.03581,
     "end_time": "2022-12-31T21:13:19.960789",
     "exception": false,
     "start_time": "2022-12-31T21:13:19.924979",
     "status": "completed"
    },
    "tags": []
   },
   "outputs": [],
   "source": [
    "test_df[categorical_cols] = encoder.transform(test_df[categorical_cols])"
   ]
  },
  {
   "cell_type": "code",
   "execution_count": 161,
   "id": "b855e343",
   "metadata": {
    "execution": {
     "iopub.execute_input": "2022-12-31T21:13:20.037603Z",
     "iopub.status.busy": "2022-12-31T21:13:20.037001Z",
     "iopub.status.idle": "2022-12-31T21:13:20.053445Z",
     "shell.execute_reply": "2022-12-31T21:13:20.052595Z"
    },
    "papermill": {
     "duration": 0.038912,
     "end_time": "2022-12-31T21:13:20.055918",
     "exception": false,
     "start_time": "2022-12-31T21:13:20.017006",
     "status": "completed"
    },
    "tags": []
   },
   "outputs": [],
   "source": [
    "test_df[numeric_cols] = pd.DataFrame(iterative_imputer.transform(test_df[numeric_cols]), columns= numeric_cols)\n",
    "test_df[categorical_cols] = pd.DataFrame(categorical_imputer.transform(test_df[categorical_cols]), columns= categorical_cols)"
   ]
  },
  {
   "cell_type": "code",
   "execution_count": 162,
   "id": "626dc3c0",
   "metadata": {
    "execution": {
     "iopub.execute_input": "2022-12-31T21:13:20.132710Z",
     "iopub.status.busy": "2022-12-31T21:13:20.132088Z",
     "iopub.status.idle": "2022-12-31T21:13:20.148021Z",
     "shell.execute_reply": "2022-12-31T21:13:20.146833Z"
    },
    "papermill": {
     "duration": 0.03889,
     "end_time": "2022-12-31T21:13:20.150698",
     "exception": false,
     "start_time": "2022-12-31T21:13:20.111808",
     "status": "completed"
    },
    "tags": []
   },
   "outputs": [],
   "source": [
    "test_df[\"group\"] = test_df[\"PassengerId\"].str.split(\"_\").str[0]\n",
    "test_df[\"group\"] = pd.to_numeric(test_df[\"group\"])"
   ]
  },
  {
   "cell_type": "code",
   "execution_count": 163,
   "id": "19b24ca0",
   "metadata": {
    "execution": {
     "iopub.execute_input": "2022-12-31T21:13:20.227099Z",
     "iopub.status.busy": "2022-12-31T21:13:20.226397Z",
     "iopub.status.idle": "2022-12-31T21:13:20.237536Z",
     "shell.execute_reply": "2022-12-31T21:13:20.236372Z"
    },
    "papermill": {
     "duration": 0.03376,
     "end_time": "2022-12-31T21:13:20.239982",
     "exception": false,
     "start_time": "2022-12-31T21:13:20.206222",
     "status": "completed"
    },
    "tags": []
   },
   "outputs": [],
   "source": [
    "test_df[new_col_names] = scaler.transform(test_df[numeric_cols]) "
   ]
  },
  {
   "cell_type": "code",
   "execution_count": 164,
   "id": "65db4789",
   "metadata": {
    "execution": {
     "iopub.execute_input": "2022-12-31T21:13:20.315728Z",
     "iopub.status.busy": "2022-12-31T21:13:20.314949Z",
     "iopub.status.idle": "2022-12-31T21:13:21.414879Z",
     "shell.execute_reply": "2022-12-31T21:13:21.413185Z"
    },
    "papermill": {
     "duration": 1.12409,
     "end_time": "2022-12-31T21:13:21.419232",
     "exception": false,
     "start_time": "2022-12-31T21:13:20.295142",
     "status": "completed"
    },
    "tags": []
   },
   "outputs": [],
   "source": [
    "preds = [x == 1 for x in model.predict(test_df[train_df.columns])]"
   ]
  },
  {
   "cell_type": "code",
   "execution_count": 165,
   "id": "e1a3aab1",
   "metadata": {
    "execution": {
     "iopub.execute_input": "2022-12-31T21:13:21.501638Z",
     "iopub.status.busy": "2022-12-31T21:13:21.501229Z",
     "iopub.status.idle": "2022-12-31T21:13:21.508512Z",
     "shell.execute_reply": "2022-12-31T21:13:21.507327Z"
    },
    "papermill": {
     "duration": 0.042981,
     "end_time": "2022-12-31T21:13:21.510676",
     "exception": false,
     "start_time": "2022-12-31T21:13:21.467695",
     "status": "completed"
    },
    "tags": []
   },
   "outputs": [],
   "source": [
    "submission_df = pd.DataFrame({\n",
    "    \"PassengerId\" : test_df[\"PassengerId\"],\n",
    "    \"Transported\" : preds\n",
    "})"
   ]
  },
  {
   "cell_type": "code",
   "execution_count": 166,
   "id": "56a1b840",
   "metadata": {
    "execution": {
     "iopub.execute_input": "2022-12-31T21:13:21.600743Z",
     "iopub.status.busy": "2022-12-31T21:13:21.600334Z",
     "iopub.status.idle": "2022-12-31T21:13:21.612606Z",
     "shell.execute_reply": "2022-12-31T21:13:21.611683Z"
    },
    "papermill": {
     "duration": 0.034928,
     "end_time": "2022-12-31T21:13:21.615096",
     "exception": false,
     "start_time": "2022-12-31T21:13:21.580168",
     "status": "completed"
    },
    "tags": []
   },
   "outputs": [],
   "source": [
    "submission_df.to_csv(\"submission_iseng_xixixi2.csv\", index=False)"
   ]
  }
 ],
 "metadata": {
  "kernelspec": {
   "display_name": "Python 3",
   "language": "python",
   "name": "python3"
  },
  "language_info": {
   "codemirror_mode": {
    "name": "ipython",
    "version": 3
   },
   "file_extension": ".py",
   "mimetype": "text/x-python",
   "name": "python",
   "nbconvert_exporter": "python",
   "pygments_lexer": "ipython3",
   "version": "3.12.3"
  },
  "papermill": {
   "default_parameters": {},
   "duration": 65.933819,
   "end_time": "2022-12-31T21:13:22.456331",
   "environment_variables": {},
   "exception": null,
   "input_path": "__notebook__.ipynb",
   "output_path": "__notebook__.ipynb",
   "parameters": {},
   "start_time": "2022-12-31T21:12:16.522512",
   "version": "2.3.4"
  }
 },
 "nbformat": 4,
 "nbformat_minor": 5
}
