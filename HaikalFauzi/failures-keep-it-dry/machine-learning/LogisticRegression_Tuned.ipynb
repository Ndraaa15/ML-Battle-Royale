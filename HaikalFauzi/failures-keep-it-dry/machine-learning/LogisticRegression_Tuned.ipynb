{
 "cells": [
  {
   "cell_type": "markdown",
   "metadata": {},
   "source": [
    "#1 DATA LOADING"
   ]
  },
  {
   "cell_type": "code",
   "execution_count": 1,
   "metadata": {},
   "outputs": [
    {
     "name": "stdout",
     "output_type": "stream",
     "text": [
      "Best ROC AUC Score on Validation Set: 0.5944416997859165\n",
      "Cross-Validation ROC AUC Scores: [0.60898036 0.58636419 0.58799726 0.59647075 0.5833045 ]\n",
      "Mean Cross-Validation ROC AUC Score: 0.5926234130445159\n"
     ]
    }
   ],
   "source": [
    "import pandas as pd\n",
    "\n",
    "# Load the datasets\n",
    "train_data = pd.read_csv('../dataset/train.csv')\n",
    "test_data = pd.read_csv('../dataset/test.csv')\n",
    "sample_submission = pd.read_csv('../dataset/sample_submission.csv')\n",
    "\n",
    "# Display the first few rows of the training data\n",
    "train_data.head()\n"
   ]
  },
  {
   "cell_type": "markdown",
   "metadata": {},
   "source": [
    "#2 DATA CHECKING"
   ]
  },
  {
   "cell_type": "code",
   "execution_count": null,
   "metadata": {},
   "outputs": [],
   "source": [
    "# Check for missing values\n",
    "missing_values_train = train_data.isnull().sum()\n",
    "missing_values_test = test_data.isnull().sum()\n",
    "\n",
    "print(\"Missing values in training data:\\n\", missing_values_train)\n",
    "print(\"\\nMissing values in test data:\\n\", missing_values_test)"
   ]
  },
  {
   "cell_type": "markdown",
   "metadata": {},
   "source": [
    "#3 PREPROCESSING - IMPUTASI"
   ]
  },
  {
   "cell_type": "code",
   "execution_count": null,
   "metadata": {},
   "outputs": [],
   "source": [
    "from sklearn.impute import SimpleImputer\n",
    "\n",
    "# Impute missing values\n",
    "imputer = SimpleImputer(strategy='mean')\n",
    "train_data_imputed = train_data.copy()\n",
    "test_data_imputed = test_data.copy()\n",
    "\n",
    "# Columns to impute\n",
    "cols_to_impute = train_data.columns[train_data.isnull().sum() > 0]\n",
    "\n",
    "train_data_imputed[cols_to_impute] = imputer.fit_transform(train_data[cols_to_impute])\n",
    "test_data_imputed[cols_to_impute] = imputer.transform(test_data[cols_to_impute])\n",
    "\n",
    "# Display the first few rows of the imputed training data\n",
    "train_data_imputed.head()"
   ]
  },
  {
   "cell_type": "markdown",
   "metadata": {},
   "source": [
    "#4 PREPROCESSING - ONE-HOT ENCODING"
   ]
  },
  {
   "cell_type": "code",
   "execution_count": null,
   "metadata": {},
   "outputs": [],
   "source": [
    "# One-Hot Encode categorical variables\n",
    "train_data_encoded = pd.get_dummies(train_data_imputed, columns=['product_code', 'attribute_0', 'attribute_1'])\n",
    "test_data_encoded = pd.get_dummies(test_data_imputed, columns=['product_code', 'attribute_0', 'attribute_1'])\n",
    "\n",
    "# Ensure the test set has the same columns as the train set\n",
    "test_data_encoded = test_data_encoded.reindex(columns=train_data_encoded.columns, fill_value=0)\n",
    "\n",
    "# Display the first few rows of the encoded training data\n",
    "train_data_encoded.head()"
   ]
  },
  {
   "cell_type": "markdown",
   "metadata": {},
   "source": [
    "#5 MEMISAHKAN FITUR DAN TARGET"
   ]
  },
  {
   "cell_type": "code",
   "execution_count": null,
   "metadata": {},
   "outputs": [],
   "source": [
    "# Separate features and target variable from the training data\n",
    "X = train_data_encoded.drop(columns=['id', 'failure'])\n",
    "y = train_data_encoded['failure']\n",
    "X_test = test_data_encoded.drop(columns=['id', 'failure'])\n",
    "\n",
    "# Display the shape of the features and target\n",
    "print(\"Shape of X:\", X.shape)\n",
    "print(\"Shape of y:\", y.shape)\n",
    "print(\"Shape of X_test:\", X_test.shape)\n"
   ]
  },
  {
   "cell_type": "markdown",
   "metadata": {},
   "source": [
    "#6 STANDARISASI FITUR"
   ]
  },
  {
   "cell_type": "code",
   "execution_count": null,
   "metadata": {},
   "outputs": [],
   "source": [
    "from sklearn.preprocessing import StandardScaler\n",
    "\n",
    "# Scale features\n",
    "scaler = StandardScaler()\n",
    "X_scaled = scaler.fit_transform(X)\n",
    "X_test_scaled = scaler.transform(X_test)\n",
    "\n",
    "# Display the first few rows of the scaled features\n",
    "pd.DataFrame(X_scaled, columns=X.columns).head()"
   ]
  },
  {
   "cell_type": "markdown",
   "metadata": {},
   "source": [
    "#7 MEMBAGI DATA LATIH DAN VALIDASI"
   ]
  },
  {
   "cell_type": "code",
   "execution_count": null,
   "metadata": {},
   "outputs": [],
   "source": [
    "from sklearn.model_selection import train_test_split\n",
    "\n",
    "# Split the training data into training and validation sets\n",
    "X_train, X_val, y_train, y_val = train_test_split(X_scaled, y, test_size=0.2, random_state=42)\n",
    "\n",
    "# Display the shape of the training and validation sets\n",
    "print(\"Shape of X_train:\", X_train.shape)\n",
    "print(\"Shape of X_val:\", X_val.shape)\n",
    "print(\"Shape of y_train:\", y_train.shape)\n",
    "print(\"Shape of y_val:\", y_val.shape)"
   ]
  },
  {
   "cell_type": "markdown",
   "metadata": {},
   "source": [
    "#8 MODELING"
   ]
  },
  {
   "cell_type": "code",
   "execution_count": null,
   "metadata": {},
   "outputs": [],
   "source": [
    "from sklearn.linear_model import LogisticRegression\n",
    "from sklearn.model_selection import GridSearchCV\n",
    "\n",
    "# Define the Logistic Regression model and the parameter grid for GridSearchCV\n",
    "model = LogisticRegression(max_iter=1000, random_state=42)\n",
    "param_grid = {\n",
    "    'C': [0.01, 0.1, 1, 10, 100],\n",
    "    'penalty': ['l1', 'l2', 'elasticnet'],\n",
    "    'solver': ['saga'],  # SAGA supports all penalties including 'elasticnet'\n",
    "    'l1_ratio': [0, 0.5, 1]  # l1_ratio is used only for elasticnet\n",
    "}\n",
    "\n",
    "# Implement GridSearchCV with cross-validation\n",
    "grid_search = GridSearchCV(estimator=model, param_grid=param_grid, cv=5, scoring='roc_auc', n_jobs=-1)\n",
    "grid_search.fit(X_train, y_train)\n",
    "\n",
    "# Get the best model\n",
    "best_model = grid_search.best_estimator_\n"
   ]
  },
  {
   "cell_type": "markdown",
   "metadata": {},
   "source": [
    "#9 EVALUASI MODEL"
   ]
  },
  {
   "cell_type": "code",
   "execution_count": null,
   "metadata": {},
   "outputs": [],
   "source": [
    "from sklearn.metrics import roc_auc_score\n",
    "\n",
    "# Evaluate the best model on the validation set\n",
    "y_val_pred = best_model.predict_proba(X_val)[:, 1]\n",
    "roc_auc = roc_auc_score(y_val, y_val_pred)\n",
    "print(f'Best ROC AUC Score on Validation Set: {roc_auc}')\n",
    "\n",
    "# Perform cross-validation on the entire training data\n",
    "cv_scores = cross_val_score(best_model, X_scaled, y, cv=5, scoring='roc_auc')\n",
    "print(f'Cross-Validation ROC AUC Scores: {cv_scores}')\n",
    "print(f'Mean Cross-Validation ROC AUC Score: {cv_scores.mean()}')\n"
   ]
  },
  {
   "cell_type": "markdown",
   "metadata": {},
   "source": [
    "#10 PREDIKSI DAN HASIL"
   ]
  },
  {
   "cell_type": "code",
   "execution_count": null,
   "metadata": {},
   "outputs": [],
   "source": [
    "# Make predictions on the test data\n",
    "y_test_pred = best_model.predict_proba(X_test_scaled)[:, 1]\n",
    "\n",
    "# Prepare the submission file\n",
    "submission = pd.DataFrame({'id': test_data['id'], 'failure': y_test_pred})\n",
    "#submission.to_csv('submission_lr_tuned.csv', index=False)\n",
    "\n",
    "# Display the first few rows of the submission file\n",
    "submission.head()\n"
   ]
  }
 ],
 "metadata": {
  "kernelspec": {
   "display_name": "Python 3",
   "language": "python",
   "name": "python3"
  },
  "language_info": {
   "codemirror_mode": {
    "name": "ipython",
    "version": 3
   },
   "file_extension": ".py",
   "mimetype": "text/x-python",
   "name": "python",
   "nbconvert_exporter": "python",
   "pygments_lexer": "ipython3",
   "version": "3.12.3"
  }
 },
 "nbformat": 4,
 "nbformat_minor": 2
}
