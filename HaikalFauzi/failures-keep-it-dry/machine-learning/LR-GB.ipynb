{
 "cells": [
  {
   "cell_type": "code",
   "execution_count": 1,
   "metadata": {},
   "outputs": [
    {
     "name": "stdout",
     "output_type": "stream",
     "text": [
      "ROC AUC Score on Validation Set: 0.5935089603655751\n"
     ]
    }
   ],
   "source": [
    "from sklearn.linear_model import LogisticRegression\n",
    "from sklearn.ensemble import GradientBoostingClassifier, VotingClassifier\n",
    "from sklearn.impute import SimpleImputer\n",
    "from sklearn.preprocessing import StandardScaler\n",
    "from sklearn.model_selection import train_test_split\n",
    "from sklearn.metrics import roc_auc_score\n",
    "import pandas as pd\n",
    "\n",
    "# Load the datasets\n",
    "train_data = pd.read_csv('../dataset/train.csv')\n",
    "test_data = pd.read_csv('../dataset/test.csv')\n",
    "sample_submission = pd.read_csv('../dataset/sample_submission.csv')\n",
    "\n",
    "# Impute missing values\n",
    "imputer = SimpleImputer(strategy='mean')\n",
    "train_data_imputed = train_data.copy()\n",
    "test_data_imputed = test_data.copy()\n",
    "\n",
    "# Columns to impute\n",
    "cols_to_impute = train_data.columns[train_data.isnull().sum() > 0]\n",
    "\n",
    "train_data_imputed[cols_to_impute] = imputer.fit_transform(train_data[cols_to_impute])\n",
    "test_data_imputed[cols_to_impute] = imputer.transform(test_data[cols_to_impute])\n",
    "\n",
    "# One-Hot Encode categorical variables\n",
    "train_data_encoded = pd.get_dummies(train_data_imputed, columns=['product_code', 'attribute_0', 'attribute_1'])\n",
    "test_data_encoded = pd.get_dummies(test_data_imputed, columns=['product_code', 'attribute_0', 'attribute_1'])\n",
    "\n",
    "# Ensure the test set has the same columns as the train set\n",
    "test_data_encoded = test_data_encoded.reindex(columns=train_data_encoded.columns, fill_value=0)\n",
    "\n",
    "# Separate features and target variable from the training data\n",
    "X = train_data_encoded.drop(columns=['id', 'failure'])\n",
    "y = train_data_encoded['failure']\n",
    "X_test = test_data_encoded.drop(columns=['id', 'failure'])\n",
    "\n",
    "# Scale features\n",
    "scaler = StandardScaler()\n",
    "X_scaled = scaler.fit_transform(X)\n",
    "X_test_scaled = scaler.transform(X_test)\n",
    "\n",
    "# Split the training data into training and validation sets\n",
    "X_train, X_val, y_train, y_val = train_test_split(X_scaled, y, test_size=0.2, random_state=42)\n",
    "\n",
    "# Define the base classifiers\n",
    "log_reg = LogisticRegression(max_iter=1000, random_state=42)\n",
    "gb_clf = GradientBoostingClassifier(random_state=42)\n",
    "\n",
    "# Define the ensemble model\n",
    "ensemble_model = VotingClassifier(\n",
    "    estimators=[('log_reg', log_reg), ('gb_clf', gb_clf)],\n",
    "    voting='soft'\n",
    ")\n",
    "\n",
    "# Train the ensemble model\n",
    "ensemble_model.fit(X_train, y_train)\n",
    "\n",
    "# Evaluate the model\n",
    "y_val_pred = ensemble_model.predict_proba(X_val)[:, 1]\n",
    "roc_auc = roc_auc_score(y_val, y_val_pred)\n",
    "print(f'ROC AUC Score on Validation Set: {roc_auc}')\n",
    "\n",
    "# Make predictions on the test data\n",
    "y_test_pred = ensemble_model.predict_proba(X_test_scaled)[:, 1]\n",
    "\n",
    "# Prepare the submission file\n",
    "submission = pd.DataFrame({'id': test_data['id'], 'failure': y_test_pred})\n",
    "submission.to_csv('submission_lr-gb.csv', index=False)"
   ]
  }
 ],
 "metadata": {
  "kernelspec": {
   "display_name": "Python 3",
   "language": "python",
   "name": "python3"
  },
  "language_info": {
   "codemirror_mode": {
    "name": "ipython",
    "version": 3
   },
   "file_extension": ".py",
   "mimetype": "text/x-python",
   "name": "python",
   "nbconvert_exporter": "python",
   "pygments_lexer": "ipython3",
   "version": "3.12.3"
  }
 },
 "nbformat": 4,
 "nbformat_minor": 2
}
