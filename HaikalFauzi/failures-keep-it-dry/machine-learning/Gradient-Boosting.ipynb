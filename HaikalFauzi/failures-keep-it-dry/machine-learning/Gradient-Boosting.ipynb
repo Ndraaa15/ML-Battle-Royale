{
 "cells": [
  {
   "cell_type": "code",
   "execution_count": 1,
   "metadata": {},
   "outputs": [
    {
     "ename": "NameError",
     "evalue": "name 'pd' is not defined",
     "output_type": "error",
     "traceback": [
      "\u001b[1;31m---------------------------------------------------------------------------\u001b[0m",
      "\u001b[1;31mNameError\u001b[0m                                 Traceback (most recent call last)",
      "Cell \u001b[1;32mIn[1], line 4\u001b[0m\n\u001b[0;32m      1\u001b[0m \u001b[38;5;28;01mfrom\u001b[39;00m \u001b[38;5;21;01msklearn\u001b[39;00m\u001b[38;5;21;01m.\u001b[39;00m\u001b[38;5;21;01mensemble\u001b[39;00m \u001b[38;5;28;01mimport\u001b[39;00m GradientBoostingClassifier\n\u001b[0;32m      3\u001b[0m \u001b[38;5;66;03m# One-Hot Encode categorical variables\u001b[39;00m\n\u001b[1;32m----> 4\u001b[0m train_data_encoded \u001b[38;5;241m=\u001b[39m \u001b[43mpd\u001b[49m\u001b[38;5;241m.\u001b[39mget_dummies(train_data, columns\u001b[38;5;241m=\u001b[39m[\u001b[38;5;124m'\u001b[39m\u001b[38;5;124mproduct_code\u001b[39m\u001b[38;5;124m'\u001b[39m, \u001b[38;5;124m'\u001b[39m\u001b[38;5;124mattribute_0\u001b[39m\u001b[38;5;124m'\u001b[39m, \u001b[38;5;124m'\u001b[39m\u001b[38;5;124mattribute_1\u001b[39m\u001b[38;5;124m'\u001b[39m])\n\u001b[0;32m      5\u001b[0m test_data_encoded \u001b[38;5;241m=\u001b[39m pd\u001b[38;5;241m.\u001b[39mget_dummies(test_data, columns\u001b[38;5;241m=\u001b[39m[\u001b[38;5;124m'\u001b[39m\u001b[38;5;124mproduct_code\u001b[39m\u001b[38;5;124m'\u001b[39m, \u001b[38;5;124m'\u001b[39m\u001b[38;5;124mattribute_0\u001b[39m\u001b[38;5;124m'\u001b[39m, \u001b[38;5;124m'\u001b[39m\u001b[38;5;124mattribute_1\u001b[39m\u001b[38;5;124m'\u001b[39m])\n\u001b[0;32m      7\u001b[0m \u001b[38;5;66;03m# Ensure the test set has the same columns as the train set\u001b[39;00m\n",
      "\u001b[1;31mNameError\u001b[0m: name 'pd' is not defined"
     ]
    }
   ],
   "source": [
    "from sklearn.ensemble import GradientBoostingClassifier\n",
    "\n",
    "# One-Hot Encode categorical variables\n",
    "train_data_encoded = pd.get_dummies(train_data, columns=['product_code', 'attribute_0', 'attribute_1'])\n",
    "test_data_encoded = pd.get_dummies(test_data, columns=['product_code', 'attribute_0', 'attribute_1'])\n",
    "\n",
    "# Ensure the test set has the same columns as the train set\n",
    "test_data_encoded = test_data_encoded.reindex(columns=train_data_encoded.columns, fill_value=0)\n",
    "\n",
    "# Impute missing values\n",
    "cols_to_impute = train_data_encoded.columns[train_data_encoded.isnull().sum() > 0]\n",
    "train_data_encoded[cols_to_impute] = imputer.fit_transform(train_data_encoded[cols_to_impute])\n",
    "test_data_encoded[cols_to_impute] = imputer.transform(test_data_encoded[cols_to_impute])\n",
    "\n",
    "# Separate features and target variable from the training data\n",
    "X = train_data_encoded.drop(columns=['id', 'failure'])\n",
    "y = train_data_encoded['failure']\n",
    "\n",
    "# Scale features\n",
    "scaler = StandardScaler()\n",
    "X_scaled = scaler.fit_transform(X)\n",
    "X_test_scaled = scaler.transform(test_data_encoded.drop(columns=['id', 'failure']))\n",
    "\n",
    "# Split the training data into training and validation sets\n",
    "X_train, X_val, y_train, y_val = train_test_split(X_scaled, y, test_size=0.2, random_state=42)\n",
    "\n",
    "# Train a Gradient Boosting classifier\n",
    "model = GradientBoostingClassifier(random_state=42)\n",
    "model.fit(X_train, y_train)\n",
    "\n",
    "# Evaluate the model\n",
    "y_val_pred = model.predict_proba(X_val)[:, 1]\n",
    "roc_auc = roc_auc_score(y_val, y_val_pred)\n",
    "\n",
    "# Make predictions on the test data\n",
    "y_test_pred = model.predict_proba(X_test_scaled)[:, 1]\n",
    "\n",
    "# Prepare the submission file\n",
    "submission = pd.DataFrame({'id': test_data['id'], 'failure': y_test_pred})\n",
    "submission.to_csv('submission_gb.csv', index=False)\n",
    "\n",
    "roc_auc"
   ]
  }
 ],
 "metadata": {
  "kernelspec": {
   "display_name": "Python 3",
   "language": "python",
   "name": "python3"
  },
  "language_info": {
   "codemirror_mode": {
    "name": "ipython",
    "version": 3
   },
   "file_extension": ".py",
   "mimetype": "text/x-python",
   "name": "python",
   "nbconvert_exporter": "python",
   "pygments_lexer": "ipython3",
   "version": "3.12.3"
  }
 },
 "nbformat": 4,
 "nbformat_minor": 2
}
